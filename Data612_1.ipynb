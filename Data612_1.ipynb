{
  "nbformat": 4,
  "nbformat_minor": 0,
  "metadata": {
    "colab": {
      "name": "Data612_1.ipynb",
      "provenance": [],
      "collapsed_sections": [],
      "mount_file_id": "1-2Yzsbx89R24TpQcsc7goIv5M9rgX0TG",
      "authorship_tag": "ABX9TyOfXjf0ASPyIE571VL2nBdJ",
      "include_colab_link": true
    },
    "kernelspec": {
      "name": "python3",
      "display_name": "Python 3"
    }
  },
  "cells": [
    {
      "cell_type": "markdown",
      "metadata": {
        "id": "view-in-github",
        "colab_type": "text"
      },
      "source": [
        "<a href=\"https://colab.research.google.com/github/quantummouse/UrbanGardenExchange/blob/master/Data612_1.ipynb\" target=\"_parent\"><img src=\"https://colab.research.google.com/assets/colab-badge.svg\" alt=\"Open In Colab\"/></a>"
      ]
    },
    {
      "cell_type": "markdown",
      "metadata": {
        "id": "qYKZM9OO7cbN"
      },
      "source": [
        "\n",
        "    Alexandria Kalika\n",
        "    Assignment 1\n",
        "    \n",
        "    Select the dataset of your choice from the list provided here.\n",
        "    Load the dataset using Jupyter notebook and explore the data by using the following.\n",
        "\n",
        "    Show the .head() and .tail() of the data set. Specify the number of rows to print using .head() and .tail().\n",
        "    Print the column names.\n",
        "    Print to see what is the type of your data set\n",
        "    Check number of rows and columns.\n",
        "    Use groupby() and find the mean on your selected colum/s.\n",
        "    Add a README file in GitHub where you explain everything you did.\n",
        "  \n"
      ]
    },
    {
      "cell_type": "code",
      "metadata": {
        "id": "vzlILCB17xAK"
      },
      "source": [
        "import pandas as pd"
      ],
      "execution_count": 43,
      "outputs": []
    },
    {
      "cell_type": "code",
      "metadata": {
        "id": "jIRoZJ5Z8kv0",
        "outputId": "fd27ffd3-83d6-4ca4-ce12-ed0a913de0a0",
        "colab": {
          "base_uri": "https://localhost:8080/",
          "height": 74
        }
      },
      "source": [
        "df = pd.read_csv(\"/content/drive/My Drive/Colab Notebooks/State_Drug_Utilization_Data_2010.csv\")\n",
        "\n"
      ],
      "execution_count": 44,
      "outputs": [
        {
          "output_type": "stream",
          "text": [
            "/usr/local/lib/python3.6/dist-packages/IPython/core/interactiveshell.py:2718: DtypeWarning: Columns (4,19) have mixed types.Specify dtype option on import or set low_memory=False.\n",
            "  interactivity=interactivity, compiler=compiler, result=result)\n"
          ],
          "name": "stderr"
        }
      ]
    },
    {
      "cell_type": "code",
      "metadata": {
        "id": "_6PdmuP_OO0k",
        "outputId": "ac8a34c5-db66-4b40-f893-f1dd5aff6903",
        "colab": {
          "base_uri": "https://localhost:8080/",
          "height": 317
        }
      },
      "source": [
        "df.head(4)"
      ],
      "execution_count": 45,
      "outputs": [
        {
          "output_type": "execute_result",
          "data": {
            "text/html": [
              "<div>\n",
              "<style scoped>\n",
              "    .dataframe tbody tr th:only-of-type {\n",
              "        vertical-align: middle;\n",
              "    }\n",
              "\n",
              "    .dataframe tbody tr th {\n",
              "        vertical-align: top;\n",
              "    }\n",
              "\n",
              "    .dataframe thead th {\n",
              "        text-align: right;\n",
              "    }\n",
              "</style>\n",
              "<table border=\"1\" class=\"dataframe\">\n",
              "  <thead>\n",
              "    <tr style=\"text-align: right;\">\n",
              "      <th></th>\n",
              "      <th>Utilization Type</th>\n",
              "      <th>State</th>\n",
              "      <th>Labeler Code</th>\n",
              "      <th>Product Code</th>\n",
              "      <th>Package Size</th>\n",
              "      <th>Year</th>\n",
              "      <th>Quarter</th>\n",
              "      <th>Product Name</th>\n",
              "      <th>Units Reimbursed</th>\n",
              "      <th>Suppression Used</th>\n",
              "      <th>Number of Prescriptions</th>\n",
              "      <th>Total Amount Reimbursed</th>\n",
              "      <th>Medicaid Amount Reimbursed</th>\n",
              "      <th>Non Medicaid Amount Reimbursed</th>\n",
              "      <th>Quarter Begin</th>\n",
              "      <th>Quarter Begin Date</th>\n",
              "      <th>Latitude</th>\n",
              "      <th>Longitude</th>\n",
              "      <th>Location</th>\n",
              "      <th>NDC</th>\n",
              "    </tr>\n",
              "  </thead>\n",
              "  <tbody>\n",
              "    <tr>\n",
              "      <th>0</th>\n",
              "      <td>FFSU</td>\n",
              "      <td>WI</td>\n",
              "      <td>17478</td>\n",
              "      <td>214</td>\n",
              "      <td>20</td>\n",
              "      <td>2010</td>\n",
              "      <td>3</td>\n",
              "      <td>ATROPINE C</td>\n",
              "      <td>NaN</td>\n",
              "      <td>True</td>\n",
              "      <td>NaN</td>\n",
              "      <td>NaN</td>\n",
              "      <td>NaN</td>\n",
              "      <td>NaN</td>\n",
              "      <td>7/1</td>\n",
              "      <td>07/01/2010</td>\n",
              "      <td>37.7680</td>\n",
              "      <td>-78.2057</td>\n",
              "      <td>(37.768, -78.2057)</td>\n",
              "      <td>17478021420</td>\n",
              "    </tr>\n",
              "    <tr>\n",
              "      <th>1</th>\n",
              "      <td>FFSU</td>\n",
              "      <td>NH</td>\n",
              "      <td>409</td>\n",
              "      <td>1165</td>\n",
              "      <td>2</td>\n",
              "      <td>2010</td>\n",
              "      <td>3</td>\n",
              "      <td>BUPIVACAIN</td>\n",
              "      <td>NaN</td>\n",
              "      <td>True</td>\n",
              "      <td>NaN</td>\n",
              "      <td>NaN</td>\n",
              "      <td>NaN</td>\n",
              "      <td>NaN</td>\n",
              "      <td>7/1</td>\n",
              "      <td>07/01/2010</td>\n",
              "      <td>47.5362</td>\n",
              "      <td>-99.7930</td>\n",
              "      <td>(47.5362, -99.793)</td>\n",
              "      <td>409116502</td>\n",
              "    </tr>\n",
              "    <tr>\n",
              "      <th>2</th>\n",
              "      <td>FFSU</td>\n",
              "      <td>XX</td>\n",
              "      <td>338</td>\n",
              "      <td>629</td>\n",
              "      <td>4</td>\n",
              "      <td>2010</td>\n",
              "      <td>4</td>\n",
              "      <td>TRAVASOL 1</td>\n",
              "      <td>164627000.0</td>\n",
              "      <td>False</td>\n",
              "      <td>29.0</td>\n",
              "      <td>27541.1</td>\n",
              "      <td>27541.10</td>\n",
              "      <td>0.00</td>\n",
              "      <td>10/1</td>\n",
              "      <td>10/01/2010</td>\n",
              "      <td>NaN</td>\n",
              "      <td>NaN</td>\n",
              "      <td>NaN</td>\n",
              "      <td>338062904</td>\n",
              "    </tr>\n",
              "    <tr>\n",
              "      <th>3</th>\n",
              "      <td>FFSU</td>\n",
              "      <td>TN</td>\n",
              "      <td>68382</td>\n",
              "      <td>99</td>\n",
              "      <td>6</td>\n",
              "      <td>2010</td>\n",
              "      <td>4</td>\n",
              "      <td>PAROXETINE</td>\n",
              "      <td>11157.5</td>\n",
              "      <td>False</td>\n",
              "      <td>296.0</td>\n",
              "      <td>3131.1</td>\n",
              "      <td>3105.18</td>\n",
              "      <td>25.92</td>\n",
              "      <td>10/1</td>\n",
              "      <td>10/01/2010</td>\n",
              "      <td>41.6772</td>\n",
              "      <td>-71.5101</td>\n",
              "      <td>(41.6772, -71.5101)</td>\n",
              "      <td>68382009906</td>\n",
              "    </tr>\n",
              "  </tbody>\n",
              "</table>\n",
              "</div>"
            ],
            "text/plain": [
              "  Utilization Type State  ...             Location          NDC\n",
              "0             FFSU    WI  ...   (37.768, -78.2057)  17478021420\n",
              "1             FFSU    NH  ...   (47.5362, -99.793)    409116502\n",
              "2             FFSU    XX  ...                  NaN    338062904\n",
              "3             FFSU    TN  ...  (41.6772, -71.5101)  68382009906\n",
              "\n",
              "[4 rows x 20 columns]"
            ]
          },
          "metadata": {
            "tags": []
          },
          "execution_count": 45
        }
      ]
    },
    {
      "cell_type": "code",
      "metadata": {
        "id": "KEoGZVAGPoIO",
        "outputId": "008f4974-9f9a-4875-a631-45d6d8b123bd",
        "colab": {
          "base_uri": "https://localhost:8080/",
          "height": 317
        }
      },
      "source": [
        "df.tail(4)"
      ],
      "execution_count": 46,
      "outputs": [
        {
          "output_type": "execute_result",
          "data": {
            "text/html": [
              "<div>\n",
              "<style scoped>\n",
              "    .dataframe tbody tr th:only-of-type {\n",
              "        vertical-align: middle;\n",
              "    }\n",
              "\n",
              "    .dataframe tbody tr th {\n",
              "        vertical-align: top;\n",
              "    }\n",
              "\n",
              "    .dataframe thead th {\n",
              "        text-align: right;\n",
              "    }\n",
              "</style>\n",
              "<table border=\"1\" class=\"dataframe\">\n",
              "  <thead>\n",
              "    <tr style=\"text-align: right;\">\n",
              "      <th></th>\n",
              "      <th>Utilization Type</th>\n",
              "      <th>State</th>\n",
              "      <th>Labeler Code</th>\n",
              "      <th>Product Code</th>\n",
              "      <th>Package Size</th>\n",
              "      <th>Year</th>\n",
              "      <th>Quarter</th>\n",
              "      <th>Product Name</th>\n",
              "      <th>Units Reimbursed</th>\n",
              "      <th>Suppression Used</th>\n",
              "      <th>Number of Prescriptions</th>\n",
              "      <th>Total Amount Reimbursed</th>\n",
              "      <th>Medicaid Amount Reimbursed</th>\n",
              "      <th>Non Medicaid Amount Reimbursed</th>\n",
              "      <th>Quarter Begin</th>\n",
              "      <th>Quarter Begin Date</th>\n",
              "      <th>Latitude</th>\n",
              "      <th>Longitude</th>\n",
              "      <th>Location</th>\n",
              "      <th>NDC</th>\n",
              "    </tr>\n",
              "  </thead>\n",
              "  <tbody>\n",
              "    <tr>\n",
              "      <th>3124385</th>\n",
              "      <td>FFSU</td>\n",
              "      <td>MN</td>\n",
              "      <td>60505</td>\n",
              "      <td>374</td>\n",
              "      <td>01</td>\n",
              "      <td>2010</td>\n",
              "      <td>2</td>\n",
              "      <td>PAROXETINE</td>\n",
              "      <td>NaN</td>\n",
              "      <td>True</td>\n",
              "      <td>NaN</td>\n",
              "      <td>NaN</td>\n",
              "      <td>NaN</td>\n",
              "      <td>NaN</td>\n",
              "      <td>4/1</td>\n",
              "      <td>04/01/2010</td>\n",
              "      <td>43.3504</td>\n",
              "      <td>-84.5603</td>\n",
              "      <td>(43.3504, -84.5603)</td>\n",
              "      <td>60505037401</td>\n",
              "    </tr>\n",
              "    <tr>\n",
              "      <th>3124386</th>\n",
              "      <td>FFSU</td>\n",
              "      <td>MO</td>\n",
              "      <td>591</td>\n",
              "      <td>410</td>\n",
              "      <td>01</td>\n",
              "      <td>2010</td>\n",
              "      <td>1</td>\n",
              "      <td>DOXYCYCLIN</td>\n",
              "      <td>NaN</td>\n",
              "      <td>True</td>\n",
              "      <td>NaN</td>\n",
              "      <td>NaN</td>\n",
              "      <td>NaN</td>\n",
              "      <td>NaN</td>\n",
              "      <td>1/1</td>\n",
              "      <td>01/01/2010</td>\n",
              "      <td>45.7326</td>\n",
              "      <td>-93.9196</td>\n",
              "      <td>(45.7326, -93.9196)</td>\n",
              "      <td>00591041001</td>\n",
              "    </tr>\n",
              "    <tr>\n",
              "      <th>3124387</th>\n",
              "      <td>MCOU</td>\n",
              "      <td>NJ</td>\n",
              "      <td>603</td>\n",
              "      <td>5684</td>\n",
              "      <td>20</td>\n",
              "      <td>2010</td>\n",
              "      <td>4</td>\n",
              "      <td>Risperidio</td>\n",
              "      <td>NaN</td>\n",
              "      <td>True</td>\n",
              "      <td>NaN</td>\n",
              "      <td>NaN</td>\n",
              "      <td>NaN</td>\n",
              "      <td>NaN</td>\n",
              "      <td>10/1</td>\n",
              "      <td>10/01/2010</td>\n",
              "      <td>41.1289</td>\n",
              "      <td>-98.2883</td>\n",
              "      <td>(41.1289, -98.2883)</td>\n",
              "      <td>00603568420</td>\n",
              "    </tr>\n",
              "    <tr>\n",
              "      <th>3124388</th>\n",
              "      <td>FFSU</td>\n",
              "      <td>ID</td>\n",
              "      <td>51672</td>\n",
              "      <td>1298</td>\n",
              "      <td>03</td>\n",
              "      <td>2010</td>\n",
              "      <td>1</td>\n",
              "      <td>KETOCONAZO</td>\n",
              "      <td>NaN</td>\n",
              "      <td>True</td>\n",
              "      <td>NaN</td>\n",
              "      <td>NaN</td>\n",
              "      <td>NaN</td>\n",
              "      <td>NaN</td>\n",
              "      <td>1/1</td>\n",
              "      <td>01/01/2010</td>\n",
              "      <td>42.0046</td>\n",
              "      <td>-93.2140</td>\n",
              "      <td>(42.0046, -93.214)</td>\n",
              "      <td>51672129803</td>\n",
              "    </tr>\n",
              "  </tbody>\n",
              "</table>\n",
              "</div>"
            ],
            "text/plain": [
              "        Utilization Type State  ...             Location          NDC\n",
              "3124385             FFSU    MN  ...  (43.3504, -84.5603)  60505037401\n",
              "3124386             FFSU    MO  ...  (45.7326, -93.9196)  00591041001\n",
              "3124387             MCOU    NJ  ...  (41.1289, -98.2883)  00603568420\n",
              "3124388             FFSU    ID  ...   (42.0046, -93.214)  51672129803\n",
              "\n",
              "[4 rows x 20 columns]"
            ]
          },
          "metadata": {
            "tags": []
          },
          "execution_count": 46
        }
      ]
    },
    {
      "cell_type": "code",
      "metadata": {
        "id": "iTFWThk7PuZw",
        "outputId": "87df1b29-fe7d-4408-f9c7-dcf95f77b35f",
        "colab": {
          "base_uri": "https://localhost:8080/",
          "height": 389
        }
      },
      "source": [
        "#column names\n",
        "\n",
        "for col in df.columns: print(col)"
      ],
      "execution_count": 47,
      "outputs": [
        {
          "output_type": "stream",
          "text": [
            "Utilization Type\n",
            "State\n",
            "Labeler Code\n",
            "Product Code\n",
            "Package Size\n",
            "Year\n",
            "Quarter\n",
            "Product Name\n",
            "Units Reimbursed\n",
            "Suppression Used\n",
            "Number of Prescriptions\n",
            "Total Amount Reimbursed\n",
            "Medicaid Amount Reimbursed\n",
            "Non Medicaid Amount Reimbursed\n",
            "Quarter Begin\n",
            "Quarter Begin Date\n",
            "Latitude\n",
            "Longitude\n",
            "Location\n",
            "NDC\n"
          ],
          "name": "stdout"
        }
      ]
    },
    {
      "cell_type": "code",
      "metadata": {
        "id": "zlK1Qhi1clgs",
        "outputId": "67990811-ffae-43af-91b5-2f77abfe402b",
        "colab": {
          "base_uri": "https://localhost:8080/",
          "height": 36
        }
      },
      "source": [
        "#type of dataset\n",
        "type(df)\n"
      ],
      "execution_count": 48,
      "outputs": [
        {
          "output_type": "execute_result",
          "data": {
            "text/plain": [
              "pandas.core.frame.DataFrame"
            ]
          },
          "metadata": {
            "tags": []
          },
          "execution_count": 48
        }
      ]
    },
    {
      "cell_type": "code",
      "metadata": {
        "id": "jbplWHuMPudd",
        "outputId": "2d50b2d1-c6a5-4914-9b23-1d2deb672a37",
        "colab": {
          "base_uri": "https://localhost:8080/",
          "height": 408
        }
      },
      "source": [
        "#type of the elements\n",
        "df.dtypes"
      ],
      "execution_count": 49,
      "outputs": [
        {
          "output_type": "execute_result",
          "data": {
            "text/plain": [
              "Utilization Type                   object\n",
              "State                              object\n",
              "Labeler Code                        int64\n",
              "Product Code                        int64\n",
              "Package Size                       object\n",
              "Year                                int64\n",
              "Quarter                             int64\n",
              "Product Name                       object\n",
              "Units Reimbursed                  float64\n",
              "Suppression Used                     bool\n",
              "Number of Prescriptions           float64\n",
              "Total Amount Reimbursed           float64\n",
              "Medicaid Amount Reimbursed        float64\n",
              "Non Medicaid Amount Reimbursed    float64\n",
              "Quarter Begin                      object\n",
              "Quarter Begin Date                 object\n",
              "Latitude                          float64\n",
              "Longitude                         float64\n",
              "Location                           object\n",
              "NDC                                object\n",
              "dtype: object"
            ]
          },
          "metadata": {
            "tags": []
          },
          "execution_count": 49
        }
      ]
    },
    {
      "cell_type": "code",
      "metadata": {
        "id": "tjHfKTFTdoPQ",
        "outputId": "930fab75-6351-41e5-8ead-3d77ba1b1a85",
        "colab": {
          "base_uri": "https://localhost:8080/",
          "height": 36
        }
      },
      "source": [
        "#number of rows and columns 3124389 rows, 20 columns\n",
        "df.shape"
      ],
      "execution_count": 50,
      "outputs": [
        {
          "output_type": "execute_result",
          "data": {
            "text/plain": [
              "(3124389, 20)"
            ]
          },
          "metadata": {
            "tags": []
          },
          "execution_count": 50
        }
      ]
    },
    {
      "cell_type": "code",
      "metadata": {
        "id": "EN4FW2x5d4SG",
        "outputId": "a6e393dd-283f-455b-cf1d-2761353bf7bd",
        "colab": {
          "base_uri": "https://localhost:8080/",
          "height": 147
        }
      },
      "source": [
        "#group by package size to find average of it.\n",
        "#Dealing with spaces in column names\n",
        "df.columns = df.columns.str.replace(' ','_')\n",
        "print(df.columns)\n"
      ],
      "execution_count": 51,
      "outputs": [
        {
          "output_type": "stream",
          "text": [
            "Index(['Utilization_Type', 'State', 'Labeler_Code', 'Product_Code',\n",
            "       'Package_Size', 'Year', 'Quarter', 'Product_Name', 'Units_Reimbursed',\n",
            "       'Suppression_Used', 'Number_of_Prescriptions',\n",
            "       'Total_Amount_Reimbursed', 'Medicaid_Amount_Reimbursed',\n",
            "       'Non_Medicaid_Amount_Reimbursed', 'Quarter_Begin', 'Quarter_Begin_Date',\n",
            "       'Latitude', 'Longitude', 'Location', 'NDC'],\n",
            "      dtype='object')\n"
          ],
          "name": "stdout"
        }
      ]
    },
    {
      "cell_type": "code",
      "metadata": {
        "id": "mDmwYqD4hYjB",
        "outputId": "6ab8a5de-2237-4799-f9b4-f902292988b1",
        "colab": {
          "base_uri": "https://localhost:8080/",
          "height": 1000
        }
      },
      "source": [
        "avg_size = df.groupby('State')['Total_Amount_Reimbursed'].mean()\n",
        "print(avg_size)"
      ],
      "execution_count": 52,
      "outputs": [
        {
          "output_type": "stream",
          "text": [
            "State\n",
            "AK     10389.098269\n",
            "AL     16704.136769\n",
            "AR     14353.140915\n",
            "AZ     15825.554060\n",
            "CA     59082.440481\n",
            "CO     13005.639849\n",
            "CT     19859.158669\n",
            "DC      7000.391872\n",
            "DE     10111.785175\n",
            "FL     28999.832439\n",
            "GA     21221.588247\n",
            "HI     30853.418587\n",
            "IA     11659.868712\n",
            "ID      7600.992805\n",
            "IL     38259.353306\n",
            "IN     22815.523732\n",
            "KS      9048.218371\n",
            "KY     13998.142380\n",
            "LA     28877.669511\n",
            "MA     22252.167583\n",
            "MD     13803.287561\n",
            "ME     10189.449604\n",
            "MI     18595.078317\n",
            "MN      9571.612473\n",
            "MO     26287.527865\n",
            "MS     12589.202104\n",
            "MT      5644.502800\n",
            "NC     30716.388328\n",
            "ND      3809.913806\n",
            "NE      7398.469891\n",
            "NH      7158.862318\n",
            "NJ     15722.983007\n",
            "NM     14847.800485\n",
            "NV      6353.743843\n",
            "NY     98915.979113\n",
            "OH     35550.379372\n",
            "OK     16919.495198\n",
            "OR     10471.379183\n",
            "PA     20197.756298\n",
            "RI      1288.839840\n",
            "SC     16784.229351\n",
            "SD      4931.711967\n",
            "TN     24499.449941\n",
            "TX     61357.528303\n",
            "UT      8586.076512\n",
            "VA     11634.323014\n",
            "VT      9066.610011\n",
            "WA     13322.231015\n",
            "WI     26469.477462\n",
            "WV     14226.208089\n",
            "WY      4354.300409\n",
            "XX    227967.377747\n",
            "Name: Total_Amount_Reimbursed, dtype: float64\n"
          ],
          "name": "stdout"
        }
      ]
    }
  ]
}